{
 "cells": [
  {
   "cell_type": "markdown",
   "metadata": {},
   "source": [
    "###### This model predicts ham or spam sms using Naive Bayes Classifier."
   ]
  },
  {
   "cell_type": "markdown",
   "metadata": {},
   "source": [
    "###### Importing important libraries"
   ]
  },
  {
   "cell_type": "code",
   "execution_count": 1,
   "metadata": {},
   "outputs": [],
   "source": [
    "import numpy as np\n",
    "import pandas as pd\n",
    "import matplotlib.pyplot as plt\n",
    "import seaborn as sns"
   ]
  },
  {
   "cell_type": "markdown",
   "metadata": {},
   "source": [
    "###### Importing and studying the data"
   ]
  },
  {
   "cell_type": "code",
   "execution_count": 2,
   "metadata": {},
   "outputs": [],
   "source": [
    "message = pd.read_csv(r\"F:\\DATA SCIENCE\\MACHINE LEARNING\\Naive Bayes Classifier\\sms_spam.csv\")"
   ]
  },
  {
   "cell_type": "code",
   "execution_count": 3,
   "metadata": {},
   "outputs": [
    {
     "data": {
      "text/html": [
       "<div>\n",
       "<style scoped>\n",
       "    .dataframe tbody tr th:only-of-type {\n",
       "        vertical-align: middle;\n",
       "    }\n",
       "\n",
       "    .dataframe tbody tr th {\n",
       "        vertical-align: top;\n",
       "    }\n",
       "\n",
       "    .dataframe thead th {\n",
       "        text-align: right;\n",
       "    }\n",
       "</style>\n",
       "<table border=\"1\" class=\"dataframe\">\n",
       "  <thead>\n",
       "    <tr style=\"text-align: right;\">\n",
       "      <th></th>\n",
       "      <th>type</th>\n",
       "      <th>text</th>\n",
       "    </tr>\n",
       "  </thead>\n",
       "  <tbody>\n",
       "    <tr>\n",
       "      <th>0</th>\n",
       "      <td>ham</td>\n",
       "      <td>Go until jurong point, crazy.. Available only ...</td>\n",
       "    </tr>\n",
       "    <tr>\n",
       "      <th>1</th>\n",
       "      <td>ham</td>\n",
       "      <td>Ok lar... Joking wif u oni...</td>\n",
       "    </tr>\n",
       "    <tr>\n",
       "      <th>2</th>\n",
       "      <td>spam</td>\n",
       "      <td>Free entry in 2 a wkly comp to win FA Cup fina...</td>\n",
       "    </tr>\n",
       "    <tr>\n",
       "      <th>3</th>\n",
       "      <td>ham</td>\n",
       "      <td>U dun say so early hor... U c already then say...</td>\n",
       "    </tr>\n",
       "    <tr>\n",
       "      <th>4</th>\n",
       "      <td>ham</td>\n",
       "      <td>Nah I don't think he goes to usf, he lives aro...</td>\n",
       "    </tr>\n",
       "  </tbody>\n",
       "</table>\n",
       "</div>"
      ],
      "text/plain": [
       "   type                                               text\n",
       "0   ham  Go until jurong point, crazy.. Available only ...\n",
       "1   ham                      Ok lar... Joking wif u oni...\n",
       "2  spam  Free entry in 2 a wkly comp to win FA Cup fina...\n",
       "3   ham  U dun say so early hor... U c already then say...\n",
       "4   ham  Nah I don't think he goes to usf, he lives aro..."
      ]
     },
     "execution_count": 3,
     "metadata": {},
     "output_type": "execute_result"
    }
   ],
   "source": [
    "message.head()"
   ]
  },
  {
   "cell_type": "code",
   "execution_count": 4,
   "metadata": {},
   "outputs": [
    {
     "data": {
      "text/plain": [
       "(5574, 2)"
      ]
     },
     "execution_count": 4,
     "metadata": {},
     "output_type": "execute_result"
    }
   ],
   "source": [
    "# Dimensions of the dataset\n",
    "message.shape"
   ]
  },
  {
   "cell_type": "markdown",
   "metadata": {},
   "source": [
    "There are 5574 observations and 2 columns in the dataset"
   ]
  },
  {
   "cell_type": "code",
   "execution_count": 5,
   "metadata": {},
   "outputs": [
    {
     "data": {
      "text/plain": [
       "414"
      ]
     },
     "execution_count": 5,
     "metadata": {},
     "output_type": "execute_result"
    }
   ],
   "source": [
    "# Duplicate cheeck\n",
    "message.duplicated().sum()"
   ]
  },
  {
   "cell_type": "code",
   "execution_count": 6,
   "metadata": {},
   "outputs": [
    {
     "data": {
      "text/html": [
       "<div>\n",
       "<style scoped>\n",
       "    .dataframe tbody tr th:only-of-type {\n",
       "        vertical-align: middle;\n",
       "    }\n",
       "\n",
       "    .dataframe tbody tr th {\n",
       "        vertical-align: top;\n",
       "    }\n",
       "\n",
       "    .dataframe thead th {\n",
       "        text-align: right;\n",
       "    }\n",
       "</style>\n",
       "<table border=\"1\" class=\"dataframe\">\n",
       "  <thead>\n",
       "    <tr style=\"text-align: right;\">\n",
       "      <th></th>\n",
       "      <th>type</th>\n",
       "      <th>text</th>\n",
       "    </tr>\n",
       "  </thead>\n",
       "  <tbody>\n",
       "    <tr>\n",
       "      <th>103</th>\n",
       "      <td>ham</td>\n",
       "      <td>As per your request 'Melle Melle (Oru Minnamin...</td>\n",
       "    </tr>\n",
       "    <tr>\n",
       "      <th>154</th>\n",
       "      <td>ham</td>\n",
       "      <td>As per your request 'Melle Melle (Oru Minnamin...</td>\n",
       "    </tr>\n",
       "    <tr>\n",
       "      <th>207</th>\n",
       "      <td>ham</td>\n",
       "      <td>As I entered my cabin my PA said, '' Happy B'd...</td>\n",
       "    </tr>\n",
       "    <tr>\n",
       "      <th>223</th>\n",
       "      <td>ham</td>\n",
       "      <td>Sorry, I'll call later</td>\n",
       "    </tr>\n",
       "    <tr>\n",
       "      <th>326</th>\n",
       "      <td>ham</td>\n",
       "      <td>No calls..messages..missed calls</td>\n",
       "    </tr>\n",
       "    <tr>\n",
       "      <th>...</th>\n",
       "      <td>...</td>\n",
       "      <td>...</td>\n",
       "    </tr>\n",
       "    <tr>\n",
       "      <th>5526</th>\n",
       "      <td>spam</td>\n",
       "      <td>You are awarded a SiPix Digital Camera! call 0...</td>\n",
       "    </tr>\n",
       "    <tr>\n",
       "      <th>5537</th>\n",
       "      <td>ham</td>\n",
       "      <td>I know you are thinkin malaria. But relax, chi...</td>\n",
       "    </tr>\n",
       "    <tr>\n",
       "      <th>5541</th>\n",
       "      <td>ham</td>\n",
       "      <td>Just sleeping..and surfing</td>\n",
       "    </tr>\n",
       "    <tr>\n",
       "      <th>5555</th>\n",
       "      <td>ham</td>\n",
       "      <td>Hahaha..use your brain dear</td>\n",
       "    </tr>\n",
       "    <tr>\n",
       "      <th>5560</th>\n",
       "      <td>ham</td>\n",
       "      <td>Sorry, I'll call later</td>\n",
       "    </tr>\n",
       "  </tbody>\n",
       "</table>\n",
       "<p>414 rows × 2 columns</p>\n",
       "</div>"
      ],
      "text/plain": [
       "      type                                               text\n",
       "103    ham  As per your request 'Melle Melle (Oru Minnamin...\n",
       "154    ham  As per your request 'Melle Melle (Oru Minnamin...\n",
       "207    ham  As I entered my cabin my PA said, '' Happy B'd...\n",
       "223    ham                             Sorry, I'll call later\n",
       "326    ham                   No calls..messages..missed calls\n",
       "...    ...                                                ...\n",
       "5526  spam  You are awarded a SiPix Digital Camera! call 0...\n",
       "5537   ham  I know you are thinkin malaria. But relax, chi...\n",
       "5541   ham                         Just sleeping..and surfing\n",
       "5555   ham                        Hahaha..use your brain dear\n",
       "5560   ham                             Sorry, I'll call later\n",
       "\n",
       "[414 rows x 2 columns]"
      ]
     },
     "execution_count": 6,
     "metadata": {},
     "output_type": "execute_result"
    }
   ],
   "source": [
    "message[message.duplicated()]"
   ]
  },
  {
   "cell_type": "markdown",
   "metadata": {},
   "source": [
    "These are the 414 duplicates present in the dataset"
   ]
  },
  {
   "cell_type": "code",
   "execution_count": 7,
   "metadata": {},
   "outputs": [],
   "source": [
    "# Droping duplicates\n",
    "message.drop_duplicates(inplace = True, ignore_index = True)"
   ]
  },
  {
   "cell_type": "code",
   "execution_count": 8,
   "metadata": {},
   "outputs": [
    {
     "data": {
      "text/html": [
       "<div>\n",
       "<style scoped>\n",
       "    .dataframe tbody tr th:only-of-type {\n",
       "        vertical-align: middle;\n",
       "    }\n",
       "\n",
       "    .dataframe tbody tr th {\n",
       "        vertical-align: top;\n",
       "    }\n",
       "\n",
       "    .dataframe thead th {\n",
       "        text-align: right;\n",
       "    }\n",
       "</style>\n",
       "<table border=\"1\" class=\"dataframe\">\n",
       "  <thead>\n",
       "    <tr style=\"text-align: right;\">\n",
       "      <th></th>\n",
       "      <th>type</th>\n",
       "      <th>text</th>\n",
       "    </tr>\n",
       "  </thead>\n",
       "  <tbody>\n",
       "    <tr>\n",
       "      <th>0</th>\n",
       "      <td>ham</td>\n",
       "      <td>Go until jurong point, crazy.. Available only ...</td>\n",
       "    </tr>\n",
       "    <tr>\n",
       "      <th>1</th>\n",
       "      <td>ham</td>\n",
       "      <td>Ok lar... Joking wif u oni...</td>\n",
       "    </tr>\n",
       "    <tr>\n",
       "      <th>2</th>\n",
       "      <td>spam</td>\n",
       "      <td>Free entry in 2 a wkly comp to win FA Cup fina...</td>\n",
       "    </tr>\n",
       "    <tr>\n",
       "      <th>3</th>\n",
       "      <td>ham</td>\n",
       "      <td>U dun say so early hor... U c already then say...</td>\n",
       "    </tr>\n",
       "    <tr>\n",
       "      <th>4</th>\n",
       "      <td>ham</td>\n",
       "      <td>Nah I don't think he goes to usf, he lives aro...</td>\n",
       "    </tr>\n",
       "    <tr>\n",
       "      <th>...</th>\n",
       "      <td>...</td>\n",
       "      <td>...</td>\n",
       "    </tr>\n",
       "    <tr>\n",
       "      <th>5155</th>\n",
       "      <td>spam</td>\n",
       "      <td>This is the 2nd time we have tried 2 contact u...</td>\n",
       "    </tr>\n",
       "    <tr>\n",
       "      <th>5156</th>\n",
       "      <td>ham</td>\n",
       "      <td>Will ü b going to esplanade fr home?</td>\n",
       "    </tr>\n",
       "    <tr>\n",
       "      <th>5157</th>\n",
       "      <td>ham</td>\n",
       "      <td>Pity, * was in mood for that. So...any other s...</td>\n",
       "    </tr>\n",
       "    <tr>\n",
       "      <th>5158</th>\n",
       "      <td>ham</td>\n",
       "      <td>The guy did some bitching but I acted like i'd...</td>\n",
       "    </tr>\n",
       "    <tr>\n",
       "      <th>5159</th>\n",
       "      <td>ham</td>\n",
       "      <td>Rofl. Its true to its name</td>\n",
       "    </tr>\n",
       "  </tbody>\n",
       "</table>\n",
       "<p>5160 rows × 2 columns</p>\n",
       "</div>"
      ],
      "text/plain": [
       "      type                                               text\n",
       "0      ham  Go until jurong point, crazy.. Available only ...\n",
       "1      ham                      Ok lar... Joking wif u oni...\n",
       "2     spam  Free entry in 2 a wkly comp to win FA Cup fina...\n",
       "3      ham  U dun say so early hor... U c already then say...\n",
       "4      ham  Nah I don't think he goes to usf, he lives aro...\n",
       "...    ...                                                ...\n",
       "5155  spam  This is the 2nd time we have tried 2 contact u...\n",
       "5156   ham               Will ü b going to esplanade fr home?\n",
       "5157   ham  Pity, * was in mood for that. So...any other s...\n",
       "5158   ham  The guy did some bitching but I acted like i'd...\n",
       "5159   ham                         Rofl. Its true to its name\n",
       "\n",
       "[5160 rows x 2 columns]"
      ]
     },
     "execution_count": 8,
     "metadata": {},
     "output_type": "execute_result"
    }
   ],
   "source": [
    "message"
   ]
  },
  {
   "cell_type": "markdown",
   "metadata": {},
   "source": [
    "After removing duplicates, we have 5160 observations in the dataset"
   ]
  },
  {
   "cell_type": "code",
   "execution_count": 9,
   "metadata": {},
   "outputs": [
    {
     "data": {
      "text/plain": [
       "type    0\n",
       "text    0\n",
       "dtype: int64"
      ]
     },
     "execution_count": 9,
     "metadata": {},
     "output_type": "execute_result"
    }
   ],
   "source": [
    "# Null value check\n",
    "message.isnull().sum()"
   ]
  },
  {
   "cell_type": "markdown",
   "metadata": {},
   "source": [
    "There are no null values present in the dataset"
   ]
  },
  {
   "cell_type": "code",
   "execution_count": 10,
   "metadata": {},
   "outputs": [
    {
     "name": "stdout",
     "output_type": "stream",
     "text": [
      "<class 'pandas.core.frame.DataFrame'>\n",
      "RangeIndex: 5160 entries, 0 to 5159\n",
      "Data columns (total 2 columns):\n",
      " #   Column  Non-Null Count  Dtype \n",
      "---  ------  --------------  ----- \n",
      " 0   type    5160 non-null   object\n",
      " 1   text    5160 non-null   object\n",
      "dtypes: object(2)\n",
      "memory usage: 80.8+ KB\n"
     ]
    }
   ],
   "source": [
    "# Info of dataset\n",
    "message.info()"
   ]
  },
  {
   "cell_type": "markdown",
   "metadata": {},
   "source": [
    "There are object type features in our dataset"
   ]
  },
  {
   "cell_type": "code",
   "execution_count": 11,
   "metadata": {},
   "outputs": [
    {
     "data": {
      "text/plain": [
       "ham     4518\n",
       "spam     642\n",
       "Name: type, dtype: int64"
      ]
     },
     "execution_count": 11,
     "metadata": {},
     "output_type": "execute_result"
    }
   ],
   "source": [
    "# Studying the target variable - 'type'\n",
    "# Checking balance of dataset\n",
    "message['type'].value_counts()"
   ]
  },
  {
   "cell_type": "code",
   "execution_count": 12,
   "metadata": {},
   "outputs": [
    {
     "name": "stdout",
     "output_type": "stream",
     "text": [
      "Percentage of not spam messages =  87.56 %\n",
      "Percentage of spam messages =  12.44 %\n"
     ]
    }
   ],
   "source": [
    "percent_ham = round((len(message[message['type'] == 'ham'])/len(message['type']))*100,2)\n",
    "percent_spam = round((len(message[message['type'] == 'spam'])/len(message['type']))*100,2)\n",
    "print('Percentage of not spam messages = ',percent_ham,'%')\n",
    "print('Percentage of spam messages = ',percent_spam,'%')"
   ]
  },
  {
   "cell_type": "code",
   "execution_count": 13,
   "metadata": {},
   "outputs": [
    {
     "data": {
      "text/plain": [
       "<AxesSubplot:xlabel='type', ylabel='count'>"
      ]
     },
     "execution_count": 13,
     "metadata": {},
     "output_type": "execute_result"
    },
    {
     "data": {
      "image/png": "[encoded data removed]",
      "text/plain": [
       "<Figure size 432x288 with 1 Axes>"
      ]
     },
     "metadata": {
      "needs_background": "light"
     },
     "output_type": "display_data"
    }
   ],
   "source": [
    "# Visualizing the distribution of target values in count plot\n",
    "sns.countplot(x = message['type'])"
   ]
  },
  {
   "cell_type": "markdown",
   "metadata": {},
   "source": [
    "Here event rate is 12.44 % which is not very low. Hence, we will avoid going for undersampling or oversampling methods as we know these methods may create biasness and overfit the model."
   ]
  },
  {
   "cell_type": "code",
   "execution_count": 14,
   "metadata": {},
   "outputs": [
    {
     "data": {
      "text/html": [
       "<div>\n",
       "<style scoped>\n",
       "    .dataframe tbody tr th:only-of-type {\n",
       "        vertical-align: middle;\n",
       "    }\n",
       "\n",
       "    .dataframe tbody tr th {\n",
       "        vertical-align: top;\n",
       "    }\n",
       "\n",
       "    .dataframe thead th {\n",
       "        text-align: right;\n",
       "    }\n",
       "</style>\n",
       "<table border=\"1\" class=\"dataframe\">\n",
       "  <thead>\n",
       "    <tr style=\"text-align: right;\">\n",
       "      <th></th>\n",
       "      <th>type</th>\n",
       "      <th>text</th>\n",
       "    </tr>\n",
       "  </thead>\n",
       "  <tbody>\n",
       "    <tr>\n",
       "      <th>count</th>\n",
       "      <td>5160</td>\n",
       "      <td>5160</td>\n",
       "    </tr>\n",
       "    <tr>\n",
       "      <th>unique</th>\n",
       "      <td>2</td>\n",
       "      <td>5160</td>\n",
       "    </tr>\n",
       "    <tr>\n",
       "      <th>top</th>\n",
       "      <td>ham</td>\n",
       "      <td>I hate when she does this. She turns what shou...</td>\n",
       "    </tr>\n",
       "    <tr>\n",
       "      <th>freq</th>\n",
       "      <td>4518</td>\n",
       "      <td>1</td>\n",
       "    </tr>\n",
       "  </tbody>\n",
       "</table>\n",
       "</div>"
      ],
      "text/plain": [
       "        type                                               text\n",
       "count   5160                                               5160\n",
       "unique     2                                               5160\n",
       "top      ham  I hate when she does this. She turns what shou...\n",
       "freq    4518                                                  1"
      ]
     },
     "execution_count": 14,
     "metadata": {},
     "output_type": "execute_result"
    }
   ],
   "source": [
    "message.describe()"
   ]
  },
  {
   "cell_type": "code",
   "execution_count": 15,
   "metadata": {},
   "outputs": [
    {
     "data": {
      "text/html": [
       "<div>\n",
       "<style scoped>\n",
       "    .dataframe tbody tr th:only-of-type {\n",
       "        vertical-align: middle;\n",
       "    }\n",
       "\n",
       "    .dataframe tbody tr th {\n",
       "        vertical-align: top;\n",
       "    }\n",
       "\n",
       "    .dataframe thead tr th {\n",
       "        text-align: left;\n",
       "    }\n",
       "\n",
       "    .dataframe thead tr:last-of-type th {\n",
       "        text-align: right;\n",
       "    }\n",
       "</style>\n",
       "<table border=\"1\" class=\"dataframe\">\n",
       "  <thead>\n",
       "    <tr>\n",
       "      <th></th>\n",
       "      <th colspan=\"4\" halign=\"left\">text</th>\n",
       "    </tr>\n",
       "    <tr>\n",
       "      <th></th>\n",
       "      <th>count</th>\n",
       "      <th>unique</th>\n",
       "      <th>top</th>\n",
       "      <th>freq</th>\n",
       "    </tr>\n",
       "    <tr>\n",
       "      <th>type</th>\n",
       "      <th></th>\n",
       "      <th></th>\n",
       "      <th></th>\n",
       "      <th></th>\n",
       "    </tr>\n",
       "  </thead>\n",
       "  <tbody>\n",
       "    <tr>\n",
       "      <th>ham</th>\n",
       "      <td>4518</td>\n",
       "      <td>4518</td>\n",
       "      <td>I hate when she does this. She turns what shou...</td>\n",
       "      <td>1</td>\n",
       "    </tr>\n",
       "    <tr>\n",
       "      <th>spam</th>\n",
       "      <td>642</td>\n",
       "      <td>642</td>\n",
       "      <td>Call Germany for only 1 pence per minute! Call...</td>\n",
       "      <td>1</td>\n",
       "    </tr>\n",
       "  </tbody>\n",
       "</table>\n",
       "</div>"
      ],
      "text/plain": [
       "      text                                                               \n",
       "     count unique                                                top freq\n",
       "type                                                                     \n",
       "ham   4518   4518  I hate when she does this. She turns what shou...    1\n",
       "spam   642    642  Call Germany for only 1 pence per minute! Call...    1"
      ]
     },
     "execution_count": 15,
     "metadata": {},
     "output_type": "execute_result"
    }
   ],
   "source": [
    "message.groupby('type').describe()"
   ]
  },
  {
   "cell_type": "code",
   "execution_count": 16,
   "metadata": {},
   "outputs": [],
   "source": [
    "# Adding length of each text message"
   ]
  },
  {
   "cell_type": "code",
   "execution_count": 17,
   "metadata": {},
   "outputs": [],
   "source": [
    "message['length'] = message['text'].apply(lambda x : len(x))"
   ]
  },
  {
   "cell_type": "code",
   "execution_count": 18,
   "metadata": {},
   "outputs": [
    {
     "data": {
      "text/html": [
       "<div>\n",
       "<style scoped>\n",
       "    .dataframe tbody tr th:only-of-type {\n",
       "        vertical-align: middle;\n",
       "    }\n",
       "\n",
       "    .dataframe tbody tr th {\n",
       "        vertical-align: top;\n",
       "    }\n",
       "\n",
       "    .dataframe thead th {\n",
       "        text-align: right;\n",
       "    }\n",
       "</style>\n",
       "<table border=\"1\" class=\"dataframe\">\n",
       "  <thead>\n",
       "    <tr style=\"text-align: right;\">\n",
       "      <th></th>\n",
       "      <th>type</th>\n",
       "      <th>text</th>\n",
       "      <th>length</th>\n",
       "    </tr>\n",
       "  </thead>\n",
       "  <tbody>\n",
       "    <tr>\n",
       "      <th>0</th>\n",
       "      <td>ham</td>\n",
       "      <td>Go until jurong point, crazy.. Available only ...</td>\n",
       "      <td>111</td>\n",
       "    </tr>\n",
       "    <tr>\n",
       "      <th>1</th>\n",
       "      <td>ham</td>\n",
       "      <td>Ok lar... Joking wif u oni...</td>\n",
       "      <td>29</td>\n",
       "    </tr>\n",
       "    <tr>\n",
       "      <th>2</th>\n",
       "      <td>spam</td>\n",
       "      <td>Free entry in 2 a wkly comp to win FA Cup fina...</td>\n",
       "      <td>155</td>\n",
       "    </tr>\n",
       "    <tr>\n",
       "      <th>3</th>\n",
       "      <td>ham</td>\n",
       "      <td>U dun say so early hor... U c already then say...</td>\n",
       "      <td>49</td>\n",
       "    </tr>\n",
       "    <tr>\n",
       "      <th>4</th>\n",
       "      <td>ham</td>\n",
       "      <td>Nah I don't think he goes to usf, he lives aro...</td>\n",
       "      <td>61</td>\n",
       "    </tr>\n",
       "  </tbody>\n",
       "</table>\n",
       "</div>"
      ],
      "text/plain": [
       "   type                                               text  length\n",
       "0   ham  Go until jurong point, crazy.. Available only ...     111\n",
       "1   ham                      Ok lar... Joking wif u oni...      29\n",
       "2  spam  Free entry in 2 a wkly comp to win FA Cup fina...     155\n",
       "3   ham  U dun say so early hor... U c already then say...      49\n",
       "4   ham  Nah I don't think he goes to usf, he lives aro...      61"
      ]
     },
     "execution_count": 18,
     "metadata": {},
     "output_type": "execute_result"
    }
   ],
   "source": [
    "message.head()"
   ]
  },
  {
   "cell_type": "code",
   "execution_count": 19,
   "metadata": {},
   "outputs": [
    {
     "data": {
      "text/plain": [
       "<seaborn.axisgrid.FacetGrid at 0x2390b184550>"
      ]
     },
     "execution_count": 19,
     "metadata": {},
     "output_type": "execute_result"
    },
    {
     "data": {
      "image/png": "[encoded data removed]",
      "text/plain": [
       "<Figure size 360x360 with 1 Axes>"
      ]
     },
     "metadata": {
      "needs_background": "light"
     },
     "output_type": "display_data"
    }
   ],
   "source": [
    "# Visulaizing dist. of length col.\n",
    "sns.displot(message['length'])"
   ]
  },
  {
   "cell_type": "code",
   "execution_count": 20,
   "metadata": {},
   "outputs": [
    {
     "data": {
      "text/plain": [
       "910"
      ]
     },
     "execution_count": 20,
     "metadata": {},
     "output_type": "execute_result"
    }
   ],
   "source": [
    "max(message['length'])"
   ]
  },
  {
   "cell_type": "code",
   "execution_count": 21,
   "metadata": {},
   "outputs": [
    {
     "name": "stdout",
     "output_type": "stream",
     "text": [
      "For me the love should start with attraction.i should feel that I need her every time around me.she should be the first thing which comes in my thoughts.I would start the day and end it with her.she should be there every time I dream.love will be then when my every breath has her name.my life should happen around her.my life will be named to her.I would cry for her.will give all my happiness and take all her sorrows.I will be ready to fight with anyone for her.I will be in love when I will be doing the craziest things for her.love will be when I don't have to proove anyone that my girl is the most beautiful lady on the whole planet.I will always be singing praises for her.love will be when I start up making chicken curry and end up makiing sambar.life will be the most beautiful then.will get every morning and thank god for the day because she is with me.I would like to say a lot..will tell later..\n"
     ]
    }
   ],
   "source": [
    "print(message[message['length'] == max(message['length'])]['text'].iloc[0])"
   ]
  },
  {
   "cell_type": "markdown",
   "metadata": {},
   "source": [
    "###### Text Pre-processing"
   ]
  },
  {
   "cell_type": "code",
   "execution_count": 22,
   "metadata": {},
   "outputs": [
    {
     "name": "stdout",
     "output_type": "stream",
     "text": [
      "sample message\n"
     ]
    }
   ],
   "source": [
    "import string\n",
    "mess = 'sample message!....'\n",
    "nopunc = [char for char in mess if char not in string.punctuation]\n",
    "nopunc = ''.join(nopunc)\n",
    "print(nopunc)"
   ]
  },
  {
   "cell_type": "code",
   "execution_count": 23,
   "metadata": {},
   "outputs": [
    {
     "name": "stderr",
     "output_type": "stream",
     "text": [
      "[nltk_data] Downloading package stopwords to\n",
      "[nltk_data]     C:\\Users\\MAKRAND\\AppData\\Roaming\\nltk_data...\n",
      "[nltk_data]   Package stopwords is already up-to-date!\n"
     ]
    },
    {
     "data": {
      "text/plain": [
       "True"
      ]
     },
     "execution_count": 23,
     "metadata": {},
     "output_type": "execute_result"
    }
   ],
   "source": [
    "import nltk\n",
    "nltk.download('stopwords')"
   ]
  },
  {
   "cell_type": "code",
   "execution_count": 24,
   "metadata": {},
   "outputs": [
    {
     "data": {
      "text/plain": [
       "['i', 'me', 'my', 'myself', 'we', 'our', 'ours', 'ourselves', 'you', \"you're\"]"
      ]
     },
     "execution_count": 24,
     "metadata": {},
     "output_type": "execute_result"
    }
   ],
   "source": [
    "from nltk.corpus import stopwords\n",
    "stopwords.words('english')[0:10]"
   ]
  },
  {
   "cell_type": "code",
   "execution_count": 25,
   "metadata": {},
   "outputs": [
    {
     "data": {
      "text/plain": [
       "['sample', 'message']"
      ]
     },
     "execution_count": 25,
     "metadata": {},
     "output_type": "execute_result"
    }
   ],
   "source": [
    "nopunc.split()"
   ]
  },
  {
   "cell_type": "code",
   "execution_count": 26,
   "metadata": {},
   "outputs": [],
   "source": [
    "# Defining text preprocessing function which returns list of words without any punctuation and stopwords in it\n",
    "def text_process(mess):\n",
    "    nopunc = [char for char in mess if char not in string.punctuation]\n",
    "    nopunc = ''.join(nopunc)\n",
    "    return [word for word in nopunc.split() if word.lower() not in stopwords.words('english')]"
   ]
  },
  {
   "cell_type": "code",
   "execution_count": 27,
   "metadata": {},
   "outputs": [
    {
     "data": {
      "text/plain": [
       "0    [Go, jurong, point, crazy, Available, bugis, n...\n",
       "1                       [Ok, lar, Joking, wif, u, oni]\n",
       "2    [Free, entry, 2, wkly, comp, win, FA, Cup, fin...\n",
       "3        [U, dun, say, early, hor, U, c, already, say]\n",
       "4    [Nah, dont, think, goes, usf, lives, around, t...\n",
       "Name: text, dtype: object"
      ]
     },
     "execution_count": 27,
     "metadata": {},
     "output_type": "execute_result"
    }
   ],
   "source": [
    "message['text'].head(5).apply(text_process)"
   ]
  },
  {
   "cell_type": "markdown",
   "metadata": {},
   "source": [
    "###### Feature Engineering and TFIDF"
   ]
  },
  {
   "cell_type": "code",
   "execution_count": 28,
   "metadata": {},
   "outputs": [],
   "source": [
    "from sklearn.feature_extraction.text import CountVectorizer"
   ]
  },
  {
   "cell_type": "code",
   "execution_count": 29,
   "metadata": {},
   "outputs": [],
   "source": [
    "bow_transformer = CountVectorizer(analyzer = text_process).fit(message['text'])"
   ]
  },
  {
   "cell_type": "code",
   "execution_count": 30,
   "metadata": {},
   "outputs": [
    {
     "data": {
      "text/plain": [
       "{'Go': 2058,\n",
       " 'jurong': 7537,\n",
       " 'point': 8899,\n",
       " 'crazy': 5760,\n",
       " 'Available': 1110,\n",
       " 'bugis': 5212,\n",
       " 'n': 8318,\n",
       " 'great': 6925,\n",
       " 'world': 11142,\n",
       " 'la': 7650,\n",
       " 'e': 6205,\n",
       " 'buffet': 5211,\n",
       " 'Cine': 1483,\n",
       " 'got': 6894,\n",
       " 'amore': 4647,\n",
       " 'wat': 10945,\n",
       " 'Ok': 3059,\n",
       " 'lar': 7683,\n",
       " 'Joking': 2445,\n",
       " 'wif': 11051,\n",
       " 'u': 10679,\n",
       " 'oni': 8572,\n",
       " 'Free': 1939,\n",
       " 'entry': 6319,\n",
       " '2': 423,\n",
       " 'wkly': 11102,\n",
       " 'comp': 5611,\n",
       " 'win': 11063,\n",
       " 'FA': 1831,\n",
       " 'Cup': 1551,\n",
       " 'final': 6545,\n",
       " 'tkts': 10493,\n",
       " '21st': 443,\n",
       " 'May': 2799,\n",
       " '2005': 430,\n",
       " 'Text': 3948,\n",
       " '87121': 871,\n",
       " 'receive': 9234,\n",
       " 'questionstd': 9141,\n",
       " 'txt': 10667,\n",
       " 'rateTCs': 9182,\n",
       " 'apply': 4725,\n",
       " '08452810075over18s': 73,\n",
       " 'U': 4062,\n",
       " 'dun': 6192,\n",
       " 'say': 9536,\n",
       " 'early': 6210,\n",
       " 'hor': 7172,\n",
       " 'c': 5254,\n",
       " 'already': 4623,\n",
       " 'Nah': 2943,\n",
       " 'dont': 6112,\n",
       " 'think': 10414,\n",
       " 'goes': 6865,\n",
       " 'usf': 10780,\n",
       " 'lives': 7824,\n",
       " 'around': 4771,\n",
       " 'though': 10431,\n",
       " 'FreeMsg': 1941,\n",
       " 'Hey': 2220,\n",
       " 'darling': 5855,\n",
       " '3': 543,\n",
       " 'weeks': 10991,\n",
       " 'word': 11129,\n",
       " 'back': 4887,\n",
       " 'Id': 2344,\n",
       " 'like': 7782,\n",
       " 'fun': 6743,\n",
       " 'still': 10075,\n",
       " 'Tb': 3925,\n",
       " 'ok': 8549,\n",
       " 'XxX': 4373,\n",
       " 'std': 10055,\n",
       " 'chgs': 5459,\n",
       " 'send': 9623,\n",
       " '£150': 11347,\n",
       " 'rcv': 9191,\n",
       " 'Even': 1800,\n",
       " 'brother': 5187,\n",
       " 'speak': 9953,\n",
       " 'treat': 10610,\n",
       " 'aids': 4584,\n",
       " 'patent': 8743,\n",
       " 'per': 8778,\n",
       " 'request': 9338,\n",
       " 'Melle': 2809,\n",
       " 'Oru': 3093,\n",
       " 'Minnaminunginte': 2828,\n",
       " 'Nurungu': 3018,\n",
       " 'Vettam': 4164,\n",
       " 'set': 9646,\n",
       " 'callertune': 5285,\n",
       " 'Callers': 1421,\n",
       " 'Press': 3273,\n",
       " '9': 909,\n",
       " 'copy': 5708,\n",
       " 'friends': 6707,\n",
       " 'Callertune': 1422,\n",
       " 'WINNER': 4215,\n",
       " 'valued': 10809,\n",
       " 'network': 8388,\n",
       " 'customer': 5811,\n",
       " 'selected': 9610,\n",
       " 'receivea': 9235,\n",
       " '£900': 11388,\n",
       " 'prize': 9040,\n",
       " 'reward': 9395,\n",
       " 'claim': 5511,\n",
       " 'call': 5268,\n",
       " '09061701461': 219,\n",
       " 'Claim': 1485,\n",
       " 'code': 5566,\n",
       " 'KL341': 2471,\n",
       " 'Valid': 4155,\n",
       " '12': 326,\n",
       " 'hours': 7187,\n",
       " 'mobile': 8198,\n",
       " '11': 315,\n",
       " 'months': 8233,\n",
       " 'R': 3316,\n",
       " 'entitled': 6316,\n",
       " 'Update': 4122,\n",
       " 'latest': 7698,\n",
       " 'colour': 5586,\n",
       " 'mobiles': 8199,\n",
       " 'camera': 5297,\n",
       " 'Call': 1417,\n",
       " 'Mobile': 2847,\n",
       " 'Co': 1492,\n",
       " 'FREE': 1863,\n",
       " '08002986030': 58,\n",
       " 'Im': 2350,\n",
       " 'gonna': 6878,\n",
       " 'home': 7145,\n",
       " 'soon': 9913,\n",
       " 'want': 10926,\n",
       " 'talk': 10285,\n",
       " 'stuff': 10135,\n",
       " 'anymore': 4695,\n",
       " 'tonight': 10538,\n",
       " 'k': 7543,\n",
       " 'Ive': 2391,\n",
       " 'cried': 5774,\n",
       " 'enough': 6307,\n",
       " 'today': 10505,\n",
       " 'SIX': 3490,\n",
       " 'chances': 5403,\n",
       " 'CASH': 1353,\n",
       " '100': 294,\n",
       " '20000': 427,\n",
       " 'pounds': 8957,\n",
       " 'CSH11': 1405,\n",
       " '87575': 875,\n",
       " 'Cost': 1524,\n",
       " '150pday': 364,\n",
       " '6days': 763,\n",
       " '16': 382,\n",
       " 'TsandCs': 4042,\n",
       " 'Reply': 3409,\n",
       " 'HL': 2137,\n",
       " '4': 605,\n",
       " 'info': 7340,\n",
       " 'URGENT': 4084,\n",
       " '1': 292,\n",
       " 'week': 10986,\n",
       " 'membership': 8092,\n",
       " '£100000': 11341,\n",
       " 'Prize': 3278,\n",
       " 'Jackpot': 2415,\n",
       " 'Txt': 4056,\n",
       " 'CLAIM': 1378,\n",
       " '81010': 821,\n",
       " 'TC': 3842,\n",
       " 'wwwdbuknet': 11210,\n",
       " 'LCCLTD': 2545,\n",
       " 'POBOX': 3133,\n",
       " '4403LDNW1A7RW18': 626,\n",
       " 'searching': 9579,\n",
       " 'right': 9404,\n",
       " 'words': 11133,\n",
       " 'thank': 10374,\n",
       " 'breather': 5160,\n",
       " 'promise': 9074,\n",
       " 'wont': 11124,\n",
       " 'take': 10277,\n",
       " 'help': 7076,\n",
       " 'granted': 6917,\n",
       " 'fulfil': 6739,\n",
       " 'wonderful': 11121,\n",
       " 'blessing': 5069,\n",
       " 'times': 10472,\n",
       " 'DATE': 1568,\n",
       " 'SUNDAY': 3562,\n",
       " 'XXXMobileMovieClub': 4364,\n",
       " 'use': 10774,\n",
       " 'credit': 5765,\n",
       " 'click': 5532,\n",
       " 'WAP': 4194,\n",
       " 'link': 7800,\n",
       " 'next': 8402,\n",
       " 'message': 8115,\n",
       " 'httpwap': 7210,\n",
       " 'xxxmobilemovieclubcomnQJKGIGHJJGCBL': 11252,\n",
       " 'Oh': 3054,\n",
       " 'kim': 7600,\n",
       " 'watching': 10950,\n",
       " 'Eh': 1767,\n",
       " 'remember': 9301,\n",
       " 'spell': 9967,\n",
       " 'name': 8330,\n",
       " 'Yes': 4419,\n",
       " 'v': 10797,\n",
       " 'naughty': 8350,\n",
       " 'make': 7982,\n",
       " 'wet': 11020,\n",
       " 'Fine': 1912,\n",
       " 'thats': 10386,\n",
       " 'way': 10959,\n",
       " 'feel': 6505,\n",
       " 'Thats': 3958,\n",
       " 'gota': 6895,\n",
       " 'b': 4874,\n",
       " 'England': 1782,\n",
       " 'Macedonia': 2767,\n",
       " 'miss': 8173,\n",
       " 'goalsteam': 6858,\n",
       " 'news': 8397,\n",
       " 'ur': 10758,\n",
       " 'national': 8344,\n",
       " 'team': 10320,\n",
       " '87077': 870,\n",
       " 'eg': 6246,\n",
       " 'ENGLAND': 1726,\n",
       " 'TryWALES': 4036,\n",
       " 'SCOTLAND': 3455,\n",
       " '4txtú120': 677,\n",
       " 'POBOXox36504W45WQ': 3136,\n",
       " 'seriously': 9640,\n",
       " 'I‘m': 2395,\n",
       " 'going': 6870,\n",
       " 'try': 10636,\n",
       " 'ha': 6980,\n",
       " 'joking': 7516,\n",
       " 'ü': 11394,\n",
       " 'pay': 8751,\n",
       " 'first': 6572,\n",
       " 'da': 5823,\n",
       " 'stock': 10079,\n",
       " 'comin': 5601,\n",
       " 'Aft': 1019,\n",
       " 'finish': 6558,\n",
       " 'lunch': 7929,\n",
       " 'go': 6852,\n",
       " 'str': 10099,\n",
       " 'lor': 7870,\n",
       " 'Ard': 1084,\n",
       " 'smth': 9863,\n",
       " 'Ffffffffff': 1903,\n",
       " 'Alright': 1053,\n",
       " 'meet': 8074,\n",
       " 'sooner': 9914,\n",
       " 'forced': 6643,\n",
       " 'eat': 6222,\n",
       " 'slice': 9818,\n",
       " 'really': 9216,\n",
       " 'hungry': 7235,\n",
       " 'tho': 10427,\n",
       " 'sucks': 10168,\n",
       " 'Mark': 2789,\n",
       " 'getting': 6820,\n",
       " 'worried': 11148,\n",
       " 'knows': 7625,\n",
       " 'sick': 9746,\n",
       " 'turn': 10653,\n",
       " 'pizza': 8851,\n",
       " 'Lol': 2642,\n",
       " 'always': 4635,\n",
       " 'convincing': 5695,\n",
       " 'catch': 5366,\n",
       " 'bus': 5231,\n",
       " 'frying': 6729,\n",
       " 'egg': 6248,\n",
       " 'tea': 10314,\n",
       " 'eating': 6225,\n",
       " 'moms': 8217,\n",
       " 'left': 7730,\n",
       " 'dinner': 6035,\n",
       " 'Love': 2655,\n",
       " 'amp': 4649,\n",
       " 'packing': 8675,\n",
       " 'car': 5323,\n",
       " 'Ill': 2348,\n",
       " 'let': 7751,\n",
       " 'know': 7621,\n",
       " 'theres': 10402,\n",
       " 'room': 9442,\n",
       " 'Ahhh': 1028,\n",
       " 'Work': 4339,\n",
       " 'vaguely': 10800,\n",
       " 'Wait': 4250,\n",
       " 'clear': 5526,\n",
       " 'sure': 10219,\n",
       " 'sarcastic': 9518,\n",
       " 'x': 11239,\n",
       " 'doesnt': 6089,\n",
       " 'live': 7821,\n",
       " 'us': 10768,\n",
       " 'Yeah': 4410,\n",
       " 'apologetic': 4713,\n",
       " 'fallen': 6456,\n",
       " 'actin': 4503,\n",
       " 'spoilt': 9987,\n",
       " 'child': 5475,\n",
       " 'caught': 5370,\n",
       " 'Till': 3991,\n",
       " 'badly': 4892,\n",
       " 'cheers': 5442,\n",
       " 'K': 2462,\n",
       " 'tell': 10336,\n",
       " 'anything': 4701,\n",
       " 'fear': 6497,\n",
       " 'fainting': 6447,\n",
       " 'housework': 7191,\n",
       " 'Quick': 3311,\n",
       " 'cuppa': 5801,\n",
       " 'Thanks': 3953,\n",
       " 'subscription': 10158,\n",
       " 'Ringtone': 3419,\n",
       " 'UK': 4068,\n",
       " 'charged': 5415,\n",
       " '£5month': 11380,\n",
       " 'Please': 3230,\n",
       " 'confirm': 5653,\n",
       " 'replying': 9333,\n",
       " 'YES': 4382,\n",
       " 'reply': 9331,\n",
       " 'Yup': 4444,\n",
       " 'look': 7862,\n",
       " 'timings': 10478,\n",
       " 'msg': 8265,\n",
       " 'Xuhui': 4371,\n",
       " 'learn': 7719,\n",
       " '2nd': 526,\n",
       " 'may': 8047,\n",
       " 'lesson': 7749,\n",
       " '8am': 903,\n",
       " 'Oops': 3080,\n",
       " 'roommates': 9445,\n",
       " 'done': 6109,\n",
       " 'see': 9595,\n",
       " 'letter': 7753,\n",
       " 'B': 1120,\n",
       " 'Anything': 1070,\n",
       " 'decide': 5906,\n",
       " 'Hello': 2207,\n",
       " 'Hows': 2277,\n",
       " 'saturday': 9528,\n",
       " 'texting': 10365,\n",
       " 'youd': 11297,\n",
       " 'decided': 5907,\n",
       " 'tomo': 10527,\n",
       " 'im': 7293,\n",
       " 'trying': 10638,\n",
       " 'invite': 7396,\n",
       " 'Pls': 3232,\n",
       " 'ahead': 4576,\n",
       " 'watts': 10957,\n",
       " 'wanted': 10928,\n",
       " 'weekend': 10988,\n",
       " 'Abiola': 999,\n",
       " 'forget': 6649,\n",
       " 'need': 8368,\n",
       " 'crave': 5757,\n",
       " 'love': 7895,\n",
       " 'sweet': 10243,\n",
       " 'Arabian': 1082,\n",
       " 'steed': 10061,\n",
       " 'Mmmmmm': 2841,\n",
       " 'Yummy': 4441,\n",
       " '07732584351': 29,\n",
       " 'Rodger': 3425,\n",
       " 'Burns': 1329,\n",
       " 'MSG': 2752,\n",
       " 'tried': 10619,\n",
       " 'sms': 9858,\n",
       " 'free': 6687,\n",
       " 'nokia': 8437,\n",
       " 'camcorder': 5295,\n",
       " '08000930705': 54,\n",
       " 'delivery': 5941,\n",
       " 'tomorrow': 10530,\n",
       " 'SEEING': 3459,\n",
       " 'Great': 2086,\n",
       " 'hope': 7163,\n",
       " 'man': 7991,\n",
       " 'well': 11003,\n",
       " 'endowed': 6291,\n",
       " 'ltgt': 7921,\n",
       " 'inches': 7319,\n",
       " 'callsmessagesmissed': 5291,\n",
       " 'calls': 5290,\n",
       " 'Didnt': 1661,\n",
       " 'get': 6812,\n",
       " 'hep': 7085,\n",
       " 'immunisation': 7301,\n",
       " 'nigeria': 8409,\n",
       " 'Fair': 1891,\n",
       " 'hopefully': 7168,\n",
       " 'tyler': 10673,\n",
       " 'cant': 5313,\n",
       " 'could': 5730,\n",
       " 'maybe': 8049,\n",
       " 'ask': 4793,\n",
       " 'bit': 5047,\n",
       " 'stubborn': 10125,\n",
       " 'didnt': 6005,\n",
       " 'even': 6357,\n",
       " 'hospital': 7178,\n",
       " 'kept': 7576,\n",
       " 'telling': 10337,\n",
       " 'weak': 10963,\n",
       " 'sucker': 10166,\n",
       " 'Hospitals': 2269,\n",
       " 'suckers': 10167,\n",
       " 'thinked': 10416,\n",
       " 'First': 1916,\n",
       " 'time': 10468,\n",
       " 'saw': 9535,\n",
       " 'class': 5519,\n",
       " 'gram': 6911,\n",
       " 'usually': 10786,\n",
       " 'runs': 9477,\n",
       " 'half': 6992,\n",
       " 'eighth': 6255,\n",
       " 'smarter': 9840,\n",
       " 'gets': 6816,\n",
       " 'almost': 4619,\n",
       " 'whole': 11042,\n",
       " 'second': 9583,\n",
       " 'fyi': 6756,\n",
       " 'ride': 9403,\n",
       " 'morning': 8238,\n",
       " 'hes': 7096,\n",
       " 'crashing': 5756,\n",
       " 'place': 8852,\n",
       " 'Wow': 4346,\n",
       " 'never': 8392,\n",
       " 'realized': 9214,\n",
       " 'embarassed': 6275,\n",
       " 'accomodations': 4486,\n",
       " 'thought': 10432,\n",
       " 'liked': 7783,\n",
       " 'since': 9770,\n",
       " 'best': 5008,\n",
       " 'seemed': 9601,\n",
       " 'happy': 7023,\n",
       " 'cave': 5374,\n",
       " 'sorry': 9923,\n",
       " 'give': 6838,\n",
       " 'offered': 8529,\n",
       " 'embarassing': 6276,\n",
       " 'SMS': 3501,\n",
       " 'ac': 4472,\n",
       " 'Sptv': 3757,\n",
       " 'New': 2963,\n",
       " 'Jersey': 2435,\n",
       " 'Devils': 1655,\n",
       " 'Detroit': 1654,\n",
       " 'Red': 3389,\n",
       " 'Wings': 4316,\n",
       " 'play': 8866,\n",
       " 'Ice': 2342,\n",
       " 'Hockey': 2247,\n",
       " 'Correct': 1522,\n",
       " 'Incorrect': 2358,\n",
       " 'End': 1780,\n",
       " 'END': 1724,\n",
       " 'SPTV': 3533,\n",
       " 'Mallika': 2779,\n",
       " 'Sherawat': 3648,\n",
       " 'yesterday': 11278,\n",
       " 'Find': 1911,\n",
       " 'ltURLgt': 7920,\n",
       " 'Congrats': 1513,\n",
       " 'year': 11269,\n",
       " 'special': 9955,\n",
       " 'cinema': 5507,\n",
       " 'pass': 8732,\n",
       " '09061209465': 214,\n",
       " 'C': 1337,\n",
       " 'Suprman': 3816,\n",
       " 'V': 4139,\n",
       " 'Matrix3': 2796,\n",
       " 'StarWars3': 3766,\n",
       " 'etc': 6347,\n",
       " 'bx420ip45we': 5250,\n",
       " '150pm': 365,\n",
       " 'Dont': 1692,\n",
       " 'Sorry': 3730,\n",
       " 'later': 7696,\n",
       " 'meeting': 8076,\n",
       " 'Tell': 3937,\n",
       " 'reached': 9198,\n",
       " 'Yesgauti': 4422,\n",
       " 'sehwag': 9607,\n",
       " 'odi': 8523,\n",
       " 'series': 9638,\n",
       " 'pick': 8826,\n",
       " 'burger': 5223,\n",
       " 'move': 8252,\n",
       " 'Pain': 3175,\n",
       " 'killing': 7597,\n",
       " 'Ha': 2166,\n",
       " 'good': 6880,\n",
       " 'joke': 7511,\n",
       " 'Girls': 2053,\n",
       " 'situation': 9790,\n",
       " 'seekers': 9598,\n",
       " 'part': 8721,\n",
       " 'checking': 5439,\n",
       " 'IQ': 2327,\n",
       " 'took': 10547,\n",
       " 'forever': 6646,\n",
       " 'come': 5593,\n",
       " 'double': 6122,\n",
       " 'check': 5436,\n",
       " 'hair': 6989,\n",
       " 'dresser': 6150,\n",
       " 'said': 9494,\n",
       " 'wun': 11187,\n",
       " 'cut': 5814,\n",
       " 'short': 9712,\n",
       " 'nice': 8405,\n",
       " 'pleased': 8877,\n",
       " 'advise': 4541,\n",
       " 'following': 6627,\n",
       " 'recent': 9238,\n",
       " 'review': 9393,\n",
       " 'Mob': 2844,\n",
       " 'awarded': 4867,\n",
       " '£1500': 11348,\n",
       " 'Bonus': 1282,\n",
       " '09066364589': 263,\n",
       " 'Today': 4005,\n",
       " 'song': 9909,\n",
       " 'dedicated': 5916,\n",
       " 'day': 5872,\n",
       " 'dedicate': 5915,\n",
       " 'Send': 3618,\n",
       " 'valuable': 10806,\n",
       " 'frnds': 6716,\n",
       " 'rply': 9458,\n",
       " 'Urgent': 4129,\n",
       " 'UR': 4081,\n",
       " 'complimentary': 5628,\n",
       " 'trip': 10620,\n",
       " 'EuroDisinc': 1797,\n",
       " 'Trav': 4026,\n",
       " 'AcoEntry41': 1008,\n",
       " '£1000': 11339,\n",
       " 'DIS': 1586,\n",
       " '186£150moreFrmMob': 391,\n",
       " 'ShrAcomOrSglSuplt10': 3668,\n",
       " 'LS1': 2583,\n",
       " '3AJ': 576,\n",
       " 'hear': 7053,\n",
       " 'new': 8395,\n",
       " 'Divorce': 1677,\n",
       " 'Barbie': 1225,\n",
       " 'comes': 5597,\n",
       " 'Kens': 2491,\n",
       " 'plane': 8859,\n",
       " 'month': 8230,\n",
       " 'end': 6286,\n",
       " 'Wah': 4248,\n",
       " 'lucky': 7926,\n",
       " 'save': 9531,\n",
       " 'money': 8223,\n",
       " 'Hee': 2201,\n",
       " 'Finished': 1915,\n",
       " 'HI': 2133,\n",
       " 'BABE': 1124,\n",
       " 'IM': 2306,\n",
       " 'HOME': 2143,\n",
       " 'WANNA': 4191,\n",
       " 'SOMETHING': 3510,\n",
       " 'XX': 4361,\n",
       " 'Kkwhere': 2521,\n",
       " 'youhow': 11300,\n",
       " 'performed': 8785,\n",
       " 'waiting': 10905,\n",
       " 'machan': 7951,\n",
       " 'cool': 5701,\n",
       " 'gentleman': 6806,\n",
       " 'dignity': 6026,\n",
       " 'respect': 9359,\n",
       " 'peoples': 8777,\n",
       " 'much': 8281,\n",
       " 'shy': 9742,\n",
       " 'pa': 8670,\n",
       " 'operate': 8588,\n",
       " 'Still': 3778,\n",
       " 'looking': 7865,\n",
       " 'job': 7498,\n",
       " 'Tas': 3922,\n",
       " 'earn': 6211,\n",
       " 'ah': 4574,\n",
       " 'hi': 7102,\n",
       " 'stop': 10088,\n",
       " 'urgnt': 10763,\n",
       " 'real': 9208,\n",
       " 'yo': 11287,\n",
       " 'tickets': 10459,\n",
       " 'one': 8568,\n",
       " 'jacket': 7459,\n",
       " 'used': 10775,\n",
       " 'multis': 8289,\n",
       " 'started': 10036,\n",
       " 'requests': 9339,\n",
       " 'pain': 8682,\n",
       " 'came': 5296,\n",
       " 'bed': 4967,\n",
       " 'Double': 1698,\n",
       " 'coins': 5572,\n",
       " 'factory': 6439,\n",
       " 'gotta': 6898,\n",
       " 'cash': 5355,\n",
       " 'nitros': 8427,\n",
       " 'babe': 4879,\n",
       " 'Ela': 1770,\n",
       " 'kanoil': 7559,\n",
       " 'download': 6128,\n",
       " 'wen': 11008,\n",
       " 'Don‘t': 1695,\n",
       " 'stand': 10025,\n",
       " 'close': 5538,\n",
       " 'you‘ll': 11316,\n",
       " 'something': 9897,\n",
       " 'another': 4680,\n",
       " 'night': 8410,\n",
       " 'spent': 9972,\n",
       " 'late': 7691,\n",
       " 'afternoon': 4557,\n",
       " 'casualty': 5364,\n",
       " 'means': 8065,\n",
       " 'havent': 7039,\n",
       " 'stuff42moro': 10136,\n",
       " 'includes': 7322,\n",
       " 'sheets': 9681,\n",
       " 'Smile': 3708,\n",
       " 'Pleasure': 3231,\n",
       " 'trouble': 10625,\n",
       " 'pours': 8959,\n",
       " 'Rain': 3363,\n",
       " 'sum1': 10186,\n",
       " 'Hurts': 2287,\n",
       " 'becoz': 4965,\n",
       " 'SOMEONE': 3508,\n",
       " 'Loves': 2661,\n",
       " 'Smiling': 3710,\n",
       " 'service': 9643,\n",
       " 'representative': 9336,\n",
       " '0800': 50,\n",
       " '169': 384,\n",
       " '6031': 726,\n",
       " '10am9pm': 309,\n",
       " 'guaranteed': 6957,\n",
       " '£5000': 11375,\n",
       " 'Havent': 2192,\n",
       " 'planning': 8863,\n",
       " 'buy': 5242,\n",
       " 'lido': 7765,\n",
       " '530': 697,\n",
       " 'show': 9726,\n",
       " 'work': 11134,\n",
       " 'ringtone': 9411,\n",
       " 'collected': 5579,\n",
       " 'Simply': 3678,\n",
       " 'text': 10360,\n",
       " 'password': 8740,\n",
       " 'MIX': 2726,\n",
       " '85069': 856,\n",
       " 'verify': 10827,\n",
       " 'Get': 2045,\n",
       " 'Usher': 4134,\n",
       " 'Britney': 1315,\n",
       " 'FML': 1855,\n",
       " 'PO': 3131,\n",
       " 'Box': 1292,\n",
       " '5249': 694,\n",
       " 'MK17': 2727,\n",
       " '92H': 914,\n",
       " '450Ppw': 636,\n",
       " 'Watching': 4271,\n",
       " 'telugu': 10341,\n",
       " 'moviewat': 8257,\n",
       " 'abt': 4468,\n",
       " 'loads': 7832,\n",
       " 'loans': 7834,\n",
       " 'Hi': 2223,\n",
       " 'Wk': 4325,\n",
       " 'hols': 7143,\n",
       " 'run': 9474,\n",
       " 'Forgot': 1932,\n",
       " 'hairdressers': 6991,\n",
       " 'appointment': 4729,\n",
       " 'four': 6673,\n",
       " 'shower': 9728,\n",
       " 'beforehand': 4979,\n",
       " 'cause': 5371,\n",
       " 'prob': 9044,\n",
       " 'cup': 5799,\n",
       " 'coffee': 5567,\n",
       " 'animation': 4667,\n",
       " 'nothing': 8462,\n",
       " 'else': 6270,\n",
       " 'Okay': 3060,\n",
       " 'price': 9020,\n",
       " 'long': 7858,\n",
       " 'legal': 7733,\n",
       " 'Wen': 4289,\n",
       " 'ave': 4855,\n",
       " 'ams': 4651,\n",
       " 'xx': 11249,\n",
       " 'gone': 6876,\n",
       " '4the': 675,\n",
       " 'driving': 6159,\n",
       " 'test': 10356,\n",
       " 'yet': 11279,\n",
       " 'wow': 11163,\n",
       " 'Youre': 4437,\n",
       " 'mean': 8061,\n",
       " 'guess': 6961,\n",
       " 'gave': 6787,\n",
       " 'boston': 5120,\n",
       " 'men': 8097,\n",
       " 'changed': 5405,\n",
       " 'search': 9578,\n",
       " 'location': 7837,\n",
       " 'nyc': 8501,\n",
       " 'Cuz': 1560,\n",
       " 'signin': 9756,\n",
       " 'page': 8678,\n",
       " 'says': 9541,\n",
       " 'Umma': 4104,\n",
       " 'life': 7768,\n",
       " 'vava': 10817,\n",
       " 'umma': 10692,\n",
       " 'lot': 7879,\n",
       " 'dear': 5893,\n",
       " 'wishes': 11083,\n",
       " 'birthday': 5045,\n",
       " 'making': 7986,\n",
       " 'truly': 10632,\n",
       " 'memorable': 8094,\n",
       " 'Aight': 1031,\n",
       " 'hit': 7121,\n",
       " 'would': 11159,\n",
       " 'ip': 7404,\n",
       " 'address': 4518,\n",
       " 'considering': 5670,\n",
       " 'computer': 5634,\n",
       " 'isnt': 7426,\n",
       " 'minecraft': 8152,\n",
       " 'server': 9642,\n",
       " 'Grumpy': 2090,\n",
       " 'old': 8562,\n",
       " 'people': 8776,\n",
       " 'mom': 8214,\n",
       " 'better': 5014,\n",
       " 'lying': 7942,\n",
       " 'jokes': 7513,\n",
       " 'worry': 11150,\n",
       " 'busy': 5237,\n",
       " 'plural': 8887,\n",
       " 'noun': 8469,\n",
       " 'research': 9345,\n",
       " 'Going': 2064,\n",
       " 'dinnermsg': 6036,\n",
       " 'cos': 5719,\n",
       " 'things': 10413,\n",
       " 'scared': 9547,\n",
       " 'mah': 7972,\n",
       " 'Cos': 1523,\n",
       " 'loud': 7890,\n",
       " 'GENT': 1977,\n",
       " 'contact': 5675,\n",
       " 'Last': 2601,\n",
       " 'weekends': 10989,\n",
       " 'draw': 6138,\n",
       " 'shows': 9733,\n",
       " 'GUARANTEED': 2020,\n",
       " '09064012160': 238,\n",
       " 'Code': 1494,\n",
       " 'K52': 2463,\n",
       " '12hrs': 338,\n",
       " '150ppm': 370,\n",
       " 'Wa': 4246,\n",
       " 'openin': 8585,\n",
       " 'sentence': 9632,\n",
       " 'formal': 6657,\n",
       " 'Anyway': 1072,\n",
       " 'fine': 6553,\n",
       " 'juz': 7542,\n",
       " 'tt': 10642,\n",
       " 'eatin': 6224,\n",
       " 'puttin': 9125,\n",
       " 'weightHaha': 10996,\n",
       " 'anythin': 4700,\n",
       " 'happened': 7015,\n",
       " 'entered': 6309,\n",
       " 'cabin': 5256,\n",
       " 'PA': 3099,\n",
       " 'Happy': 2184,\n",
       " 'Bday': 1232,\n",
       " 'Boss': 1290,\n",
       " 'felt': 6514,\n",
       " 'askd': 4794,\n",
       " 'invited': 7397,\n",
       " 'apartment': 4709,\n",
       " 'went': 11010,\n",
       " 'winner': 11073,\n",
       " 'specially': 9959,\n",
       " 'holiday': 7139,\n",
       " 'flights': 6597,\n",
       " 'inc': 7317,\n",
       " 'operator': 8589,\n",
       " '0871277810910pmin': 123,\n",
       " '18': 387,\n",
       " 'Goodo': 2073,\n",
       " 'must': 8306,\n",
       " 'friday': 6700,\n",
       " 'eggpotato': 6249,\n",
       " 'ratio': 9185,\n",
       " 'tortilla': 10564,\n",
       " 'needed': 8370,\n",
       " 'Hmmmy': 2244,\n",
       " 'uncle': 10697,\n",
       " 'informed': 7344,\n",
       " 'paying': 8755,\n",
       " 'school': 9553,\n",
       " 'directly': 6040,\n",
       " 'pls': 8883,\n",
       " 'food': 6633,\n",
       " 'PRIVATE': 3161,\n",
       " '2004': 429,\n",
       " 'Account': 1004,\n",
       " 'Statement': 3771,\n",
       " '07742676969': 31,\n",
       " '786': 788,\n",
       " 'unredeemed': 10735,\n",
       " 'Points': 3246,\n",
       " '08719180248': 171,\n",
       " 'Identifier': 2346,\n",
       " '45239': 639,\n",
       " 'Expires': 1823,\n",
       " '£2000': 11360,\n",
       " 'Caller': 1420,\n",
       " '5903': 702,\n",
       " 'Landline': 2596,\n",
       " '09064019788': 244,\n",
       " 'BOX42WR29C': 1185,\n",
       " '150PPM': 355,\n",
       " 'applespairsall': 4723,\n",
       " 'malarky': 7988,\n",
       " 'Todays': 4006,\n",
       " 'Voda': 4173,\n",
       " 'numbers': 8492,\n",
       " 'ending': 6288,\n",
       " '7548': 783,\n",
       " '350': 566,\n",
       " 'award': 4866,\n",
       " 'match': 8028,\n",
       " 'please': 8876,\n",
       " '08712300220': 105,\n",
       " 'quoting': 9152,\n",
       " '4041': 610,\n",
       " 'standard': 10026,\n",
       " 'rates': 9183,\n",
       " 'app': 4717,\n",
       " 'sao': 9513,\n",
       " 'mu': 8280,\n",
       " 'Ü': 11391,\n",
       " 'predict': 8987,\n",
       " 'üll': 11395,\n",
       " 'buying': 5245,\n",
       " 'Good': 2068,\n",
       " 'knowyetunde': 7628,\n",
       " 'hasnt': 7030,\n",
       " 'sent': 9631,\n",
       " 'bother': 5122,\n",
       " 'sending': 9624,\n",
       " 'involve': 7401,\n",
       " 'shouldnt': 9720,\n",
       " 'imposed': 7307,\n",
       " 'apologise': 4714,\n",
       " 'HEY': 2129,\n",
       " 'GIRL': 1983,\n",
       " 'HOPE': 2147,\n",
       " 'WELL': 4201,\n",
       " 'DEL': 1580,\n",
       " 'BAK': 1134,\n",
       " 'LONG': 2569,\n",
       " 'TIME': 3878,\n",
       " 'GIVE': 1986,\n",
       " 'CALL': 1341,\n",
       " 'SUM': 3559,\n",
       " 'LUCYxx': 2589,\n",
       " 'Kkhow': 2515,\n",
       " 'cost': 5721,\n",
       " 'Dear': 1632,\n",
       " 'Tmorrowpls': 3999,\n",
       " 'accomodate': 4485,\n",
       " 'answer': 4683,\n",
       " 'question': 9138,\n",
       " 'Sunshine': 3812,\n",
       " 'Quiz': 3313,\n",
       " 'Wkly': 4326,\n",
       " 'Q': 3299,\n",
       " 'Win': 4314,\n",
       " 'top': 10555,\n",
       " 'Sony': 3727,\n",
       " 'DVD': 1612,\n",
       " 'player': 8868,\n",
       " 'country': 5735,\n",
       " 'Algarve': 1047,\n",
       " 'ansr': 4682,\n",
       " '82277': 827,\n",
       " 'SPTyrone': 3534,\n",
       " 'Want': 4261,\n",
       " 'laid': 7663,\n",
       " 'Dogging': 1686,\n",
       " 'locations': 7838,\n",
       " 'direct': 6039,\n",
       " 'mob': 8197,\n",
       " 'Join': 2441,\n",
       " 'UKs': 4071,\n",
       " 'largest': 7685,\n",
       " 'Network': 2958,\n",
       " 'bt': 5201,\n",
       " 'Txting': 4059,\n",
       " 'GRAVEL': 2016,\n",
       " '69888': 752,\n",
       " 'Nt': 3015,\n",
       " 'ec2a': 6227,\n",
       " '31pmsg150p': 559,\n",
       " 'haf': 6985,\n",
       " 'msn': 8275,\n",
       " 'yijuehotmailcom': 11285,\n",
       " 'rooms': 9446,\n",
       " 'befor': 4978,\n",
       " 'activities': 4508,\n",
       " 'Youll': 4436,\n",
       " 'msgs': 8268,\n",
       " 'chat': 5427,\n",
       " 'svc': 10234,\n",
       " 'Hardcore': 2186,\n",
       " 'services': 9644,\n",
       " 'GO': 1991,\n",
       " '69988': 756,\n",
       " 'Age': 1025,\n",
       " 'Verify': 4163,\n",
       " 'yr': 11319,\n",
       " 'Got': 2078,\n",
       " 'lazy': 7713,\n",
       " 'type': 10675,\n",
       " 'forgot': 6654,\n",
       " 'lect': 7727,\n",
       " 'pouch': 8954,\n",
       " 'youre': 11308,\n",
       " 'Sir': 3685,\n",
       " 'Waiting': 4253,\n",
       " 'mail': 7975,\n",
       " 'swt': 10255,\n",
       " 'Nver': 3020,\n",
       " 'tired': 10482,\n",
       " 'little': 7820,\n",
       " 'lovable': 7894,\n",
       " 'persons': 8799,\n",
       " 'Cozsomtimes': 1532,\n",
       " 'occupy': 8517,\n",
       " 'biggest': 5029,\n",
       " 'Hearts': 2200,\n",
       " 'Gud': 2094,\n",
       " 'ni8': 8403,\n",
       " 'open': 8582,\n",
       " 'ya': 11258,\n",
       " 'dot': 6121,\n",
       " 'Whats': 4298,\n",
       " 'staff': 10016,\n",
       " 'taking': 10282,\n",
       " 'replied': 9329,\n",
       " 'Randy': 3370,\n",
       " 'sexy': 9658,\n",
       " 'female': 6515,\n",
       " 'local': 7836,\n",
       " 'Luv': 2674,\n",
       " 'Netcollex': 2957,\n",
       " 'Ltd': 2665,\n",
       " '08700621170150p': 75,\n",
       " ...}"
      ]
     },
     "execution_count": 30,
     "metadata": {},
     "output_type": "execute_result"
    }
   ],
   "source": [
    "bow_transformer.vocabulary_"
   ]
  },
  {
   "cell_type": "code",
   "execution_count": 31,
   "metadata": {},
   "outputs": [
    {
     "name": "stdout",
     "output_type": "stream",
     "text": [
      "11401\n"
     ]
    }
   ],
   "source": [
    "print(len(bow_transformer.vocabulary_))"
   ]
  },
  {
   "cell_type": "code",
   "execution_count": 32,
   "metadata": {},
   "outputs": [],
   "source": [
    "messages_bow = bow_transformer.transform(message['text'])"
   ]
  },
  {
   "cell_type": "code",
   "execution_count": 33,
   "metadata": {},
   "outputs": [
    {
     "name": "stdout",
     "output_type": "stream",
     "text": [
      "(5160, 11401)\n"
     ]
    }
   ],
   "source": [
    "from sklearn.feature_extraction.text import TfidfTransformer\n",
    "tfidf_transformer = TfidfTransformer()\n",
    "messages_tfidf = tfidf_transformer.fit_transform(messages_bow)\n",
    "print(messages_tfidf.shape)"
   ]
  },
  {
   "cell_type": "markdown",
   "metadata": {},
   "source": [
    "TFIDF has converted text messages into discrete type feature values of features (giving importance to rare words)"
   ]
  },
  {
   "cell_type": "markdown",
   "metadata": {},
   "source": [
    "###### Multinomial Naive Bayes Classifer"
   ]
  },
  {
   "cell_type": "markdown",
   "metadata": {},
   "source": [
    "We will use Multinomial Naive Bayes Classifier as features are discrete in nature which is achieved through TFIDF feature engineering technique.\n"
   ]
  },
  {
   "cell_type": "code",
   "execution_count": 34,
   "metadata": {},
   "outputs": [],
   "source": [
    "from sklearn.model_selection import train_test_split"
   ]
  },
  {
   "cell_type": "code",
   "execution_count": 35,
   "metadata": {},
   "outputs": [],
   "source": [
    "from sklearn.preprocessing import LabelEncoder\n",
    "le = LabelEncoder()"
   ]
  },
  {
   "cell_type": "code",
   "execution_count": 36,
   "metadata": {},
   "outputs": [],
   "source": [
    "message['type'] = le.fit_transform(message['type'])"
   ]
  },
  {
   "cell_type": "code",
   "execution_count": 37,
   "metadata": {},
   "outputs": [
    {
     "data": {
      "text/html": [
       "<div>\n",
       "<style scoped>\n",
       "    .dataframe tbody tr th:only-of-type {\n",
       "        vertical-align: middle;\n",
       "    }\n",
       "\n",
       "    .dataframe tbody tr th {\n",
       "        vertical-align: top;\n",
       "    }\n",
       "\n",
       "    .dataframe thead th {\n",
       "        text-align: right;\n",
       "    }\n",
       "</style>\n",
       "<table border=\"1\" class=\"dataframe\">\n",
       "  <thead>\n",
       "    <tr style=\"text-align: right;\">\n",
       "      <th></th>\n",
       "      <th>type</th>\n",
       "      <th>text</th>\n",
       "      <th>length</th>\n",
       "    </tr>\n",
       "  </thead>\n",
       "  <tbody>\n",
       "    <tr>\n",
       "      <th>0</th>\n",
       "      <td>0</td>\n",
       "      <td>Go until jurong point, crazy.. Available only ...</td>\n",
       "      <td>111</td>\n",
       "    </tr>\n",
       "    <tr>\n",
       "      <th>1</th>\n",
       "      <td>0</td>\n",
       "      <td>Ok lar... Joking wif u oni...</td>\n",
       "      <td>29</td>\n",
       "    </tr>\n",
       "    <tr>\n",
       "      <th>2</th>\n",
       "      <td>1</td>\n",
       "      <td>Free entry in 2 a wkly comp to win FA Cup fina...</td>\n",
       "      <td>155</td>\n",
       "    </tr>\n",
       "    <tr>\n",
       "      <th>3</th>\n",
       "      <td>0</td>\n",
       "      <td>U dun say so early hor... U c already then say...</td>\n",
       "      <td>49</td>\n",
       "    </tr>\n",
       "    <tr>\n",
       "      <th>4</th>\n",
       "      <td>0</td>\n",
       "      <td>Nah I don't think he goes to usf, he lives aro...</td>\n",
       "      <td>61</td>\n",
       "    </tr>\n",
       "  </tbody>\n",
       "</table>\n",
       "</div>"
      ],
      "text/plain": [
       "   type                                               text  length\n",
       "0     0  Go until jurong point, crazy.. Available only ...     111\n",
       "1     0                      Ok lar... Joking wif u oni...      29\n",
       "2     1  Free entry in 2 a wkly comp to win FA Cup fina...     155\n",
       "3     0  U dun say so early hor... U c already then say...      49\n",
       "4     0  Nah I don't think he goes to usf, he lives aro...      61"
      ]
     },
     "execution_count": 37,
     "metadata": {},
     "output_type": "execute_result"
    }
   ],
   "source": [
    "message.head()"
   ]
  },
  {
   "cell_type": "code",
   "execution_count": 38,
   "metadata": {},
   "outputs": [],
   "source": [
    "x_train, x_test, y_train, y_test = train_test_split(messages_tfidf, message['type'], test_size = 0.2, random_state = 43)"
   ]
  },
  {
   "cell_type": "code",
   "execution_count": 39,
   "metadata": {},
   "outputs": [],
   "source": [
    "from sklearn.naive_bayes import MultinomialNB"
   ]
  },
  {
   "cell_type": "code",
   "execution_count": 40,
   "metadata": {},
   "outputs": [],
   "source": [
    "spam_detect_model = MultinomialNB() #By default laplace smoothing is applied (alpha = 1)"
   ]
  },
  {
   "cell_type": "code",
   "execution_count": 41,
   "metadata": {},
   "outputs": [
    {
     "data": {
      "text/plain": [
       "MultinomialNB()"
      ]
     },
     "execution_count": 41,
     "metadata": {},
     "output_type": "execute_result"
    }
   ],
   "source": [
    "spam_detect_model.fit(x_train, y_train)"
   ]
  },
  {
   "cell_type": "markdown",
   "metadata": {},
   "source": [
    "###### Predictions"
   ]
  },
  {
   "cell_type": "code",
   "execution_count": 42,
   "metadata": {},
   "outputs": [],
   "source": [
    "y_pred = spam_detect_model.predict(x_test)"
   ]
  },
  {
   "cell_type": "code",
   "execution_count": 43,
   "metadata": {},
   "outputs": [
    {
     "data": {
      "text/plain": [
       "array([0, 0, 0, ..., 0, 1, 0])"
      ]
     },
     "execution_count": 43,
     "metadata": {},
     "output_type": "execute_result"
    }
   ],
   "source": [
    "y_pred "
   ]
  },
  {
   "cell_type": "markdown",
   "metadata": {},
   "source": [
    "###### Evaluation of model"
   ]
  },
  {
   "cell_type": "code",
   "execution_count": 44,
   "metadata": {},
   "outputs": [],
   "source": [
    "# Importing evaluation metrices\n",
    "from sklearn.metrics import accuracy_score, recall_score, precision_score, f1_score, classification_report, roc_curve, roc_auc_score, confusion_matrix"
   ]
  },
  {
   "cell_type": "code",
   "execution_count": 45,
   "metadata": {},
   "outputs": [
    {
     "name": "stdout",
     "output_type": "stream",
     "text": [
      "Accuracy of model =  95.45 %\n",
      "Recall of model =  64.39 %\n",
      "Precision of model =  100.0 %\n",
      "F1 score of model =  78.34 %\n"
     ]
    }
   ],
   "source": [
    "# Accuracy, precision, recall and f1 score of the model\n",
    "accuracy = round(accuracy_score(y_test, y_pred)*100,2)\n",
    "print('Accuracy of model = ',accuracy,'%')\n",
    "recall = round(recall_score(y_test,y_pred)*100,2)\n",
    "print('Recall of model = ',recall,'%')\n",
    "precision = round(precision_score(y_test,y_pred)*100,2)\n",
    "print('Precision of model = ',precision, '%')\n",
    "f1 = round(f1_score(y_test,y_pred)*100,2)\n",
    "print('F1 score of model = ',f1, '%')"
   ]
  },
  {
   "cell_type": "markdown",
   "metadata": {},
   "source": [
    "- Here, in this case study, 'precision' is an important criteria. Since, it is 100%, so, we do not have single FPs, i.e.,\n",
    "  we don't have cases where mails which are not spam and important ones are categorized into spam mails, which is what we require\n",
    "  as we do not want to loose the important mails into spam box.\n",
    "- Here, there is scope of improvement in 'recall', as we have some FNs, i.e, there are some mails which are actually spam \n",
    "but still we are getting it in our main inbox, so model needs to improve upon that.\n",
    "- F1 score strikes balance between recall and precision(as we increase precision, we decrease recall and vice-versa)\n",
    "  by using their harmonic means and punishing extreme values."
   ]
  },
  {
   "cell_type": "code",
   "execution_count": 46,
   "metadata": {},
   "outputs": [
    {
     "data": {
      "text/html": [
       "<div>\n",
       "<style scoped>\n",
       "    .dataframe tbody tr th:only-of-type {\n",
       "        vertical-align: middle;\n",
       "    }\n",
       "\n",
       "    .dataframe tbody tr th {\n",
       "        vertical-align: top;\n",
       "    }\n",
       "\n",
       "    .dataframe thead th {\n",
       "        text-align: right;\n",
       "    }\n",
       "</style>\n",
       "<table border=\"1\" class=\"dataframe\">\n",
       "  <thead>\n",
       "    <tr style=\"text-align: right;\">\n",
       "      <th></th>\n",
       "      <th>0</th>\n",
       "      <th>1</th>\n",
       "    </tr>\n",
       "  </thead>\n",
       "  <tbody>\n",
       "    <tr>\n",
       "      <th>0</th>\n",
       "      <td>900</td>\n",
       "      <td>0</td>\n",
       "    </tr>\n",
       "    <tr>\n",
       "      <th>1</th>\n",
       "      <td>47</td>\n",
       "      <td>85</td>\n",
       "    </tr>\n",
       "  </tbody>\n",
       "</table>\n",
       "</div>"
      ],
      "text/plain": [
       "     0   1\n",
       "0  900   0\n",
       "1   47  85"
      ]
     },
     "execution_count": 46,
     "metadata": {},
     "output_type": "execute_result"
    }
   ],
   "source": [
    "# Confusion Matrix\n",
    "conf_mat = pd.DataFrame(confusion_matrix(y_test, y_pred))\n",
    "conf_mat"
   ]
  },
  {
   "cell_type": "code",
   "execution_count": 49,
   "metadata": {},
   "outputs": [
    {
     "data": {
      "image/png": "[encoded data removed]",
      "text/plain": [
       "<Figure size 648x432 with 2 Axes>"
      ]
     },
     "metadata": {
      "needs_background": "light"
     },
     "output_type": "display_data"
    }
   ],
   "source": [
    "# Visualizing Confusion Matrix - using heatmap\n",
    "f, ax = plt.subplots(figsize=(9, 6))\n",
    "sns.heatmap(conf_mat, annot=True, fmt=\"d\", linewidths=.5, ax=ax,xticklabels= ['Not Spam(0)','Spam(1)'],\n",
    "    yticklabels=['Not Spam(0)','Spam(1)'])\n",
    "plt.xticks(rotation = 10)\n",
    "plt.yticks(rotation = 10)\n",
    "plt.xlabel('Predicted Class Values')\n",
    "plt.ylabel('Actual Class Values')\n",
    "plt.title('Confusion Matrix')\n",
    "plt.show()"
   ]
  },
  {
   "cell_type": "code",
   "execution_count": 53,
   "metadata": {},
   "outputs": [
    {
     "name": "stdout",
     "output_type": "stream",
     "text": [
      "Classification Report of model :-\n",
      "               precision    recall  f1-score   support\n",
      "\n",
      "           0       0.95      1.00      0.97       900\n",
      "           1       1.00      0.64      0.78       132\n",
      "\n",
      "    accuracy                           0.95      1032\n",
      "   macro avg       0.98      0.82      0.88      1032\n",
      "weighted avg       0.96      0.95      0.95      1032\n",
      "\n"
     ]
    }
   ],
   "source": [
    "# Classification Report\n",
    "report = classification_report(y_test, y_pred)\n",
    "print('Classification Report of model :-\\n',report)"
   ]
  },
  {
   "cell_type": "code",
   "execution_count": 60,
   "metadata": {},
   "outputs": [],
   "source": [
    "# ROC - AUC Curve\n",
    "y_prob = pd.DataFrame(spam_detect_model.predict_proba(x_test))"
   ]
  },
  {
   "cell_type": "code",
   "execution_count": 61,
   "metadata": {},
   "outputs": [
    {
     "data": {
      "text/html": [
       "<div>\n",
       "<style scoped>\n",
       "    .dataframe tbody tr th:only-of-type {\n",
       "        vertical-align: middle;\n",
       "    }\n",
       "\n",
       "    .dataframe tbody tr th {\n",
       "        vertical-align: top;\n",
       "    }\n",
       "\n",
       "    .dataframe thead th {\n",
       "        text-align: right;\n",
       "    }\n",
       "</style>\n",
       "<table border=\"1\" class=\"dataframe\">\n",
       "  <thead>\n",
       "    <tr style=\"text-align: right;\">\n",
       "      <th></th>\n",
       "      <th>0</th>\n",
       "      <th>1</th>\n",
       "    </tr>\n",
       "  </thead>\n",
       "  <tbody>\n",
       "    <tr>\n",
       "      <th>0</th>\n",
       "      <td>0.997186</td>\n",
       "      <td>0.002814</td>\n",
       "    </tr>\n",
       "    <tr>\n",
       "      <th>1</th>\n",
       "      <td>0.994450</td>\n",
       "      <td>0.005550</td>\n",
       "    </tr>\n",
       "    <tr>\n",
       "      <th>2</th>\n",
       "      <td>0.876657</td>\n",
       "      <td>0.123343</td>\n",
       "    </tr>\n",
       "    <tr>\n",
       "      <th>3</th>\n",
       "      <td>0.983908</td>\n",
       "      <td>0.016092</td>\n",
       "    </tr>\n",
       "    <tr>\n",
       "      <th>4</th>\n",
       "      <td>0.991752</td>\n",
       "      <td>0.008248</td>\n",
       "    </tr>\n",
       "    <tr>\n",
       "      <th>...</th>\n",
       "      <td>...</td>\n",
       "      <td>...</td>\n",
       "    </tr>\n",
       "    <tr>\n",
       "      <th>1027</th>\n",
       "      <td>0.989089</td>\n",
       "      <td>0.010911</td>\n",
       "    </tr>\n",
       "    <tr>\n",
       "      <th>1028</th>\n",
       "      <td>0.994539</td>\n",
       "      <td>0.005461</td>\n",
       "    </tr>\n",
       "    <tr>\n",
       "      <th>1029</th>\n",
       "      <td>0.996294</td>\n",
       "      <td>0.003706</td>\n",
       "    </tr>\n",
       "    <tr>\n",
       "      <th>1030</th>\n",
       "      <td>0.243990</td>\n",
       "      <td>0.756010</td>\n",
       "    </tr>\n",
       "    <tr>\n",
       "      <th>1031</th>\n",
       "      <td>0.989453</td>\n",
       "      <td>0.010547</td>\n",
       "    </tr>\n",
       "  </tbody>\n",
       "</table>\n",
       "<p>1032 rows × 2 columns</p>\n",
       "</div>"
      ],
      "text/plain": [
       "             0         1\n",
       "0     0.997186  0.002814\n",
       "1     0.994450  0.005550\n",
       "2     0.876657  0.123343\n",
       "3     0.983908  0.016092\n",
       "4     0.991752  0.008248\n",
       "...        ...       ...\n",
       "1027  0.989089  0.010911\n",
       "1028  0.994539  0.005461\n",
       "1029  0.996294  0.003706\n",
       "1030  0.243990  0.756010\n",
       "1031  0.989453  0.010547\n",
       "\n",
       "[1032 rows x 2 columns]"
      ]
     },
     "execution_count": 61,
     "metadata": {},
     "output_type": "execute_result"
    }
   ],
   "source": [
    "y_prob"
   ]
  },
  {
   "cell_type": "code",
   "execution_count": 62,
   "metadata": {},
   "outputs": [],
   "source": [
    "y_prob_positive = y_prob.iloc[:, 1]"
   ]
  },
  {
   "cell_type": "code",
   "execution_count": 63,
   "metadata": {},
   "outputs": [
    {
     "data": {
      "text/plain": [
       "0       0.002814\n",
       "1       0.005550\n",
       "2       0.123343\n",
       "3       0.016092\n",
       "4       0.008248\n",
       "          ...   \n",
       "1027    0.010911\n",
       "1028    0.005461\n",
       "1029    0.003706\n",
       "1030    0.756010\n",
       "1031    0.010547\n",
       "Name: 1, Length: 1032, dtype: float64"
      ]
     },
     "execution_count": 63,
     "metadata": {},
     "output_type": "execute_result"
    }
   ],
   "source": [
    "y_prob_positive"
   ]
  },
  {
   "cell_type": "code",
   "execution_count": 65,
   "metadata": {},
   "outputs": [],
   "source": [
    "# Getting False Positive Rate and True Positive rate at various thresholds from AUC - ROC Curve\n",
    "fpr , tpr , thresholds = roc_curve(y_test, y_prob_positive)"
   ]
  },
  {
   "cell_type": "code",
   "execution_count": 67,
   "metadata": {},
   "outputs": [
    {
     "name": "stdout",
     "output_type": "stream",
     "text": [
      "AUC of ROC Curve =  97.51 %\n"
     ]
    }
   ],
   "source": [
    "# AUC Score\n",
    "auc = round(roc_auc_score(y_test, y_prob_positive)*100,2)\n",
    "print('AUC of ROC Curve = ',auc,'%')"
   ]
  },
  {
   "cell_type": "code",
   "execution_count": 77,
   "metadata": {},
   "outputs": [
    {
     "data": {
      "image/png": "[encoded data removed]",
      "text/plain": [
       "<Figure size 432x288 with 1 Axes>"
      ]
     },
     "metadata": {
      "needs_background": "light"
     },
     "output_type": "display_data"
    }
   ],
   "source": [
    "# Plotting ROC - AUC Curve\n",
    "plt.plot(fpr, tpr, label = f'ROC - AUC Curve (AUC = {auc})', color = 'green')\n",
    "plt.plot([0,1], [0,1], linestyle = 'dashed', color = 'magenta')\n",
    "plt.legend()\n",
    "plt.xlabel('False Positive Rate')\n",
    "plt.ylabel('True Positive Rate')\n",
    "plt.title('ROC - AUC Curve')\n",
    "plt.show()"
   ]
  },
  {
   "cell_type": "markdown",
   "metadata": {},
   "source": [
    "We are getting AUC as 97.5% . Hence, our model is able to distinguish between the classes most of the times."
   ]
  },
  {
   "cell_type": "code",
   "execution_count": 79,
   "metadata": {},
   "outputs": [],
   "source": [
    "# Since, Naive Bayes is a probabilistic model (apart from Logistic Regression) whose output is probability value between 0 and 1, so, we have one more evaluation\n",
    "# matrix log loss / cross entropy loss evaluates the performance of such model, especially useful for imbalanced dataset.\n",
    "from sklearn.metrics import log_loss"
   ]
  },
  {
   "cell_type": "code",
   "execution_count": 81,
   "metadata": {},
   "outputs": [
    {
     "name": "stdout",
     "output_type": "stream",
     "text": [
      "Cross Entropy loss / log loss of the model =  0.13202758576648127\n"
     ]
    }
   ],
   "source": [
    "cross_entropy_loss = log_loss(y_test, y_prob)\n",
    "print('Cross Entropy loss / log loss of the model = ',cross_entropy_loss)"
   ]
  },
  {
   "cell_type": "markdown",
   "metadata": {},
   "source": [
    "There is log loss of 13% of the model."
   ]
  },
  {
   "cell_type": "code",
   "execution_count": null,
   "metadata": {},
   "outputs": [],
   "source": []
  },
  {
   "cell_type": "code",
   "execution_count": null,
   "metadata": {},
   "outputs": [],
   "source": []
  },
  {
   "cell_type": "code",
   "execution_count": null,
   "metadata": {},
   "outputs": [],
   "source": []
  },
  {
   "cell_type": "code",
   "execution_count": null,
   "metadata": {},
   "outputs": [],
   "source": []
  }
 ],
 "metadata": {
  "kernelspec": {
   "display_name": "Python 3",
   "language": "python",
   "name": "python3"
  },
  "language_info": {
   "codemirror_mode": {
    "name": "ipython",
    "version": 3
   },
   "file_extension": ".py",
   "mimetype": "text/x-python",
   "name": "python",
   "nbconvert_exporter": "python",
   "pygments_lexer": "ipython3",
   "version": "3.8.5"
  }
 },
 "nbformat": 4,
 "nbformat_minor": 4
}
